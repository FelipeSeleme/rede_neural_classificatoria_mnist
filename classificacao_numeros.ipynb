{
 "cells": [
  {
   "cell_type": "markdown",
   "metadata": {},
   "source": [
    "Vamos construir uma `rede neural` do zero para classificar números escritos a mão.  \n",
    "Para isso, vamos utilizar o dataset `MNIST`, que é um dataset de imagens de números escritos a mão.  \n",
    "O dataset possui 60.000 imagens para treino e 10.000 imagens para teste. Cada imagem possui tamanho 28x28 pixels."
   ]
  },
  {
   "cell_type": "code",
   "execution_count": 23,
   "metadata": {},
   "outputs": [],
   "source": [
    "# Importando as bibliotecas necessárias\n",
    "import numpy as np\n",
    "import pandas as pd\n",
    "from matplotlib import pyplot as plt"
   ]
  },
  {
   "cell_type": "code",
   "execution_count": 24,
   "metadata": {},
   "outputs": [],
   "source": [
    "# Importando o dataset\n",
    "data = pd.read_csv('mnist.csv')"
   ]
  },
  {
   "cell_type": "code",
   "execution_count": 25,
   "metadata": {},
   "outputs": [],
   "source": [
    "data = np.array(data)\n",
    "m, n = data.shape\n",
    "np.random.shuffle(data) # shuffle before splitting into dev and training sets\n",
    "\n",
    "data_dev = data[0:1000].T\n",
    "Y_dev = data_dev[0]\n",
    "X_dev = data_dev[1:n]\n",
    "X_dev = X_dev / 255.\n",
    "\n",
    "data_train = data[1000:m].T\n",
    "Y_train = data_train[0]\n",
    "X_train = data_train[1:n]\n",
    "X_train = X_train / 255.\n",
    "_,m_train = X_train.shape"
   ]
  },
  {
   "cell_type": "code",
   "execution_count": 26,
   "metadata": {},
   "outputs": [
    {
     "data": {
      "text/plain": [
       "array([9, 6, 6, ..., 4, 6, 3], dtype=int64)"
      ]
     },
     "execution_count": 26,
     "metadata": {},
     "output_type": "execute_result"
    }
   ],
   "source": [
    "Y_train"
   ]
  },
  {
   "cell_type": "code",
   "execution_count": 27,
   "metadata": {},
   "outputs": [],
   "source": [
    "# Definindo os parâmetros iniciais\n",
    "def init_params():\n",
    "    W1 = np.random.rand(10, 784) - 0.5\n",
    "    b1 = np.random.rand(10, 1) - 0.5\n",
    "    W2 = np.random.rand(10, 10) - 0.5\n",
    "    b2 = np.random.rand(10, 1) - 0.5\n",
    "    return W1, b1, W2, b2\n",
    "\n",
    "\n",
    "# Definindo o ReLU: função de ativação\n",
    "def ReLU(Z):\n",
    "    return np.maximum(Z, 0)\n",
    "\n",
    "\n",
    "# Definindo a função de ativação Softmax\n",
    "def softmax(Z):\n",
    "    A = np.exp(Z) / sum(np.exp(Z))\n",
    "    return A\n",
    "\n",
    "\n",
    "# Definindo a propagação para frente\n",
    "def forward_prop(W1, b1, W2, b2, X):\n",
    "    Z1 = W1.dot(X) + b1\n",
    "    A1 = ReLU(Z1)\n",
    "    Z2 = W2.dot(A1) + b2\n",
    "    A2 = softmax(Z2)\n",
    "    return Z1, A1, Z2, A2\n",
    "\n",
    "\n",
    "def ReLU_deriv(Z):\n",
    "    return Z > 0\n",
    "\n",
    "\n",
    "# Definindo o one-hot encoding: transforma os valores de y em vetores de 0 e 1\n",
    "def one_hot(Y):\n",
    "    one_hot_Y = np.zeros((Y.size, Y.max() + 1))\n",
    "    one_hot_Y[np.arange(Y.size), Y] = 1\n",
    "    one_hot_Y = one_hot_Y.T\n",
    "    return one_hot_Y\n",
    "\n",
    "\n",
    "# Definindo a propagação para trás\n",
    "def backward_prop(Z1, A1, Z2, A2, W1, W2, X, Y):\n",
    "    one_hot_Y = one_hot(Y)\n",
    "    dZ2 = A2 - one_hot_Y\n",
    "    dW2 = 1 / m * dZ2.dot(A1.T)\n",
    "    db2 = 1 / m * np.sum(dZ2)\n",
    "    dZ1 = W2.T.dot(dZ2) * ReLU_deriv(Z1)\n",
    "    dW1 = 1 / m * dZ1.dot(X.T)\n",
    "    db1 = 1 / m * np.sum(dZ1)\n",
    "    return dW1, db1, dW2, db2\n",
    "\n",
    "\n",
    "# Definindo a atualização dos parâmetros\n",
    "def update_params(W1, b1, W2, b2, dW1, db1, dW2, db2, alpha):\n",
    "    W1 = W1 - alpha * dW1\n",
    "    b1 = b1 - alpha * db1    \n",
    "    W2 = W2 - alpha * dW2  \n",
    "    b2 = b2 - alpha * db2    \n",
    "    return W1, b1, W2, b2"
   ]
  },
  {
   "cell_type": "code",
   "execution_count": 28,
   "metadata": {},
   "outputs": [],
   "source": [
    "def get_predictions(A2):\n",
    "    return np.argmax(A2, 0)\n",
    "\n",
    "def get_accuracy(predictions, Y):\n",
    "    print(predictions, Y)\n",
    "    return np.sum(predictions == Y) / Y.size\n",
    "\n",
    "def gradient_descent(X, Y, alpha, iterations):\n",
    "    W1, b1, W2, b2 = init_params()\n",
    "    for i in range(iterations):\n",
    "        Z1, A1, Z2, A2 = forward_prop(W1, b1, W2, b2, X)\n",
    "        dW1, db1, dW2, db2 = backward_prop(Z1, A1, Z2, A2, W1, W2, X, Y)\n",
    "        W1, b1, W2, b2 = update_params(W1, b1, W2, b2, dW1, db1, dW2, db2, alpha)\n",
    "        if i % 10 == 0:\n",
    "            print(\"Iteration: \", i)\n",
    "            predictions = get_predictions(A2)\n",
    "            print(get_accuracy(predictions, Y))\n",
    "    return W1, b1, W2, b2"
   ]
  },
  {
   "cell_type": "code",
   "execution_count": 30,
   "metadata": {},
   "outputs": [
    {
     "name": "stdout",
     "output_type": "stream",
     "text": [
      "Iteration:  0\n",
      "[1 0 3 ... 2 2 3] [9 6 6 ... 4 6 3]\n",
      "0.08133333333333333\n",
      "Iteration:  10\n",
      "[1 0 3 ... 2 2 3] [9 6 6 ... 4 6 3]\n",
      "0.14621739130434783\n",
      "Iteration:  20\n",
      "[3 0 6 ... 2 2 3] [9 6 6 ... 4 6 3]\n",
      "0.21828985507246376\n",
      "Iteration:  30\n",
      "[3 0 6 ... 2 2 3] [9 6 6 ... 4 6 3]\n",
      "0.28705797101449276\n",
      "Iteration:  40\n",
      "[3 0 0 ... 2 2 3] [9 6 6 ... 4 6 3]\n",
      "0.3337391304347826\n",
      "Iteration:  50\n",
      "[3 0 0 ... 2 2 3] [9 6 6 ... 4 6 3]\n",
      "0.3723623188405797\n",
      "Iteration:  60\n",
      "[9 0 0 ... 2 2 3] [9 6 6 ... 4 6 3]\n",
      "0.41240579710144926\n",
      "Iteration:  70\n",
      "[9 0 0 ... 2 2 3] [9 6 6 ... 4 6 3]\n",
      "0.45256521739130434\n",
      "Iteration:  80\n",
      "[9 0 0 ... 2 2 3] [9 6 6 ... 4 6 3]\n",
      "0.4905797101449275\n",
      "Iteration:  90\n",
      "[9 0 0 ... 2 2 3] [9 6 6 ... 4 6 3]\n",
      "0.5229855072463768\n",
      "Iteration:  100\n",
      "[9 6 6 ... 2 2 3] [9 6 6 ... 4 6 3]\n",
      "0.5526376811594202\n",
      "Iteration:  110\n",
      "[9 6 6 ... 6 2 3] [9 6 6 ... 4 6 3]\n",
      "0.5790144927536232\n",
      "Iteration:  120\n",
      "[9 6 6 ... 6 2 3] [9 6 6 ... 4 6 3]\n",
      "0.6032028985507246\n",
      "Iteration:  130\n",
      "[9 6 6 ... 6 2 3] [9 6 6 ... 4 6 3]\n",
      "0.6237826086956522\n",
      "Iteration:  140\n",
      "[9 6 6 ... 4 6 3] [9 6 6 ... 4 6 3]\n",
      "0.6424202898550725\n",
      "Iteration:  150\n",
      "[9 6 6 ... 4 6 3] [9 6 6 ... 4 6 3]\n",
      "0.6600144927536232\n",
      "Iteration:  160\n",
      "[9 6 6 ... 4 6 3] [9 6 6 ... 4 6 3]\n",
      "0.6758840579710145\n",
      "Iteration:  170\n",
      "[9 6 6 ... 4 6 3] [9 6 6 ... 4 6 3]\n",
      "0.6890869565217391\n",
      "Iteration:  180\n",
      "[9 6 6 ... 4 6 3] [9 6 6 ... 4 6 3]\n",
      "0.7018985507246377\n",
      "Iteration:  190\n",
      "[9 6 6 ... 4 6 3] [9 6 6 ... 4 6 3]\n",
      "0.7129275362318841\n",
      "Iteration:  200\n",
      "[9 6 6 ... 4 6 3] [9 6 6 ... 4 6 3]\n",
      "0.7228840579710145\n",
      "Iteration:  210\n",
      "[9 6 6 ... 4 6 3] [9 6 6 ... 4 6 3]\n",
      "0.7313188405797102\n",
      "Iteration:  220\n",
      "[9 6 6 ... 4 6 3] [9 6 6 ... 4 6 3]\n",
      "0.7402173913043478\n",
      "Iteration:  230\n",
      "[9 6 6 ... 4 6 3] [9 6 6 ... 4 6 3]\n",
      "0.7476086956521739\n",
      "Iteration:  240\n",
      "[9 6 6 ... 4 6 3] [9 6 6 ... 4 6 3]\n",
      "0.7550869565217392\n",
      "Iteration:  250\n",
      "[9 6 6 ... 4 6 3] [9 6 6 ... 4 6 3]\n",
      "0.7627101449275362\n",
      "Iteration:  260\n",
      "[9 6 6 ... 4 6 3] [9 6 6 ... 4 6 3]\n",
      "0.7691594202898551\n",
      "Iteration:  270\n",
      "[9 6 6 ... 4 6 3] [9 6 6 ... 4 6 3]\n",
      "0.774927536231884\n",
      "Iteration:  280\n",
      "[9 6 6 ... 4 6 3] [9 6 6 ... 4 6 3]\n",
      "0.7805797101449276\n",
      "Iteration:  290\n",
      "[9 6 6 ... 4 6 3] [9 6 6 ... 4 6 3]\n",
      "0.7854782608695652\n",
      "Iteration:  300\n",
      "[9 6 6 ... 4 6 3] [9 6 6 ... 4 6 3]\n",
      "0.7903913043478261\n",
      "Iteration:  310\n",
      "[9 6 6 ... 4 6 3] [9 6 6 ... 4 6 3]\n",
      "0.7949565217391305\n",
      "Iteration:  320\n",
      "[9 6 6 ... 4 6 3] [9 6 6 ... 4 6 3]\n",
      "0.799\n",
      "Iteration:  330\n",
      "[9 6 6 ... 4 6 3] [9 6 6 ... 4 6 3]\n",
      "0.803\n",
      "Iteration:  340\n",
      "[9 6 6 ... 4 6 3] [9 6 6 ... 4 6 3]\n",
      "0.8069420289855073\n",
      "Iteration:  350\n",
      "[9 6 6 ... 4 6 3] [9 6 6 ... 4 6 3]\n",
      "0.8101884057971015\n",
      "Iteration:  360\n",
      "[9 6 6 ... 4 6 3] [9 6 6 ... 4 6 3]\n",
      "0.8128115942028985\n",
      "Iteration:  370\n",
      "[9 6 6 ... 4 6 3] [9 6 6 ... 4 6 3]\n",
      "0.8156811594202898\n",
      "Iteration:  380\n",
      "[9 6 6 ... 4 6 3] [9 6 6 ... 4 6 3]\n",
      "0.8188550724637681\n",
      "Iteration:  390\n",
      "[9 6 6 ... 4 6 3] [9 6 6 ... 4 6 3]\n",
      "0.8215507246376812\n",
      "Iteration:  400\n",
      "[9 6 6 ... 4 6 3] [9 6 6 ... 4 6 3]\n",
      "0.8243478260869566\n",
      "Iteration:  410\n",
      "[9 6 6 ... 4 6 3] [9 6 6 ... 4 6 3]\n",
      "0.8270434782608695\n",
      "Iteration:  420\n",
      "[9 6 6 ... 4 6 3] [9 6 6 ... 4 6 3]\n",
      "0.8290289855072464\n",
      "Iteration:  430\n",
      "[9 6 6 ... 4 6 3] [9 6 6 ... 4 6 3]\n",
      "0.8312028985507246\n",
      "Iteration:  440\n",
      "[9 6 6 ... 4 6 3] [9 6 6 ... 4 6 3]\n",
      "0.8333768115942028\n",
      "Iteration:  450\n",
      "[9 6 6 ... 4 6 3] [9 6 6 ... 4 6 3]\n",
      "0.835304347826087\n",
      "Iteration:  460\n",
      "[9 6 6 ... 4 6 3] [9 6 6 ... 4 6 3]\n",
      "0.8370434782608696\n",
      "Iteration:  470\n",
      "[9 6 6 ... 4 6 3] [9 6 6 ... 4 6 3]\n",
      "0.8390289855072464\n",
      "Iteration:  480\n",
      "[9 6 6 ... 4 6 3] [9 6 6 ... 4 6 3]\n",
      "0.8407971014492753\n",
      "Iteration:  490\n",
      "[9 6 6 ... 4 6 3] [9 6 6 ... 4 6 3]\n",
      "0.8423768115942029\n"
     ]
    }
   ],
   "source": [
    "W1, b1, W2, b2 = gradient_descent(X_train, Y_train, 0.10, 500)"
   ]
  },
  {
   "cell_type": "code",
   "execution_count": 31,
   "metadata": {},
   "outputs": [],
   "source": [
    "def make_predictions(X, W1, b1, W2, b2):\n",
    "    _, _, _, A2 = forward_prop(W1, b1, W2, b2, X)\n",
    "    predictions = get_predictions(A2)\n",
    "    return predictions\n",
    "\n",
    "def test_prediction(index, W1, b1, W2, b2):\n",
    "    current_image = X_train[:, index, None]\n",
    "    prediction = make_predictions(X_train[:, index, None], W1, b1, W2, b2)\n",
    "    label = Y_train[index]\n",
    "    print(\"Prediction: \", prediction)\n",
    "    print(\"Label: \", label)\n",
    "    \n",
    "    current_image = current_image.reshape((28, 28)) * 255\n",
    "    plt.gray()\n",
    "    plt.imshow(current_image, interpolation='nearest')\n",
    "    plt.show()"
   ]
  },
  {
   "cell_type": "code",
   "execution_count": 32,
   "metadata": {},
   "outputs": [
    {
     "name": "stdout",
     "output_type": "stream",
     "text": [
      "Prediction:  [9]\n",
      "Label:  9\n"
     ]
    },
    {
     "data": {
      "image/png": "[encoded data removed]",
      "text/plain": [
       "<Figure size 640x480 with 1 Axes>"
      ]
     },
     "metadata": {},
     "output_type": "display_data"
    },
    {
     "name": "stdout",
     "output_type": "stream",
     "text": [
      "Prediction:  [6]\n",
      "Label:  6\n"
     ]
    },
    {
     "data": {
      "image/png": "[encoded data removed]",
      "text/plain": [
       "<Figure size 640x480 with 1 Axes>"
      ]
     },
     "metadata": {},
     "output_type": "display_data"
    },
    {
     "name": "stdout",
     "output_type": "stream",
     "text": [
      "Prediction:  [6]\n",
      "Label:  6\n"
     ]
    },
    {
     "data": {
      "image/png": "[encoded data removed]",
      "text/plain": [
       "<Figure size 640x480 with 1 Axes>"
      ]
     },
     "metadata": {},
     "output_type": "display_data"
    },
    {
     "name": "stdout",
     "output_type": "stream",
     "text": [
      "Prediction:  [9]\n",
      "Label:  9\n"
     ]
    },
    {
     "data": {
      "image/png": "[encoded data removed]",
      "text/plain": [
       "<Figure size 640x480 with 1 Axes>"
      ]
     },
     "metadata": {},
     "output_type": "display_data"
    }
   ],
   "source": [
    "test_prediction(0, W1, b1, W2, b2)\n",
    "test_prediction(1, W1, b1, W2, b2)\n",
    "test_prediction(2, W1, b1, W2, b2)\n",
    "test_prediction(3, W1, b1, W2, b2)"
   ]
  },
  {
   "cell_type": "code",
   "execution_count": 33,
   "metadata": {},
   "outputs": [
    {
     "name": "stdout",
     "output_type": "stream",
     "text": [
      "[6 1 7 3 4 8 0 2 8 6 1 7 4 4 1 6 7 4 8 3 1 6 9 4 5 8 9 9 2 0 2 0 7 9 4 0 8\n",
      " 4 9 8 1 8 0 7 7 0 4 4 9 2 7 0 7 6 1 0 4 0 6 0 3 4 1 5 9 7 6 9 9 9 6 4 2 0\n",
      " 9 0 5 3 7 9 0 3 6 6 3 1 6 3 4 2 0 3 1 0 5 7 0 5 3 8 3 0 8 7 8 0 0 3 4 9 0\n",
      " 7 3 9 1 2 4 1 1 6 8 3 4 1 1 5 0 2 3 4 2 6 1 6 7 7 8 8 2 3 2 3 2 2 3 5 1 5\n",
      " 9 6 8 7 3 0 0 6 9 2 4 2 0 4 5 1 4 3 6 8 3 6 1 6 4 5 3 7 8 6 2 6 1 4 5 9 8\n",
      " 7 9 8 0 4 3 2 7 7 7 1 5 4 3 0 9 0 4 7 9 0 7 4 4 0 4 5 5 2 9 9 7 6 0 6 9 7\n",
      " 5 6 1 6 7 4 6 9 4 1 6 0 2 3 0 5 7 1 7 5 0 5 6 3 5 0 9 4 8 5 1 6 2 6 7 0 3\n",
      " 9 3 9 5 1 0 1 3 9 4 1 7 3 0 1 1 9 4 1 5 0 0 9 2 5 4 7 4 6 0 6 5 7 7 0 3 2\n",
      " 3 9 7 1 1 6 5 9 6 1 7 2 6 5 3 0 0 1 4 9 5 6 6 5 0 4 9 7 8 2 8 5 2 5 4 1 5\n",
      " 1 7 8 0 9 8 6 9 6 8 7 1 3 9 9 6 0 0 2 2 4 7 1 6 3 7 5 1 6 2 3 0 2 0 3 1 2\n",
      " 2 6 4 0 2 4 8 7 7 7 9 3 6 4 0 3 2 8 9 8 6 2 6 8 5 5 6 7 9 7 0 6 7 4 2 5 0\n",
      " 2 6 7 2 3 1 0 8 7 2 6 2 0 6 1 1 7 8 6 4 0 2 9 1 6 8 3 4 3 3 6 4 7 7 7 0 1\n",
      " 7 6 8 0 8 5 6 7 3 9 3 8 6 0 9 8 6 9 6 2 2 3 5 9 2 8 7 1 7 4 8 0 1 6 4 0 3\n",
      " 7 7 2 4 0 9 4 4 8 1 3 5 8 6 3 1 7 7 1 0 3 7 9 1 4 3 4 2 8 5 1 3 9 2 5 6 9\n",
      " 4 2 7 6 0 8 6 9 4 5 7 4 1 8 2 8 8 7 8 5 9 7 6 8 4 9 6 6 2 5 1 2 5 2 3 1 2\n",
      " 5 4 7 7 9 0 8 6 5 2 9 0 7 5 8 2 4 6 0 5 8 4 8 7 8 6 7 8 0 8 2 9 2 0 8 9 1\n",
      " 7 6 4 7 4 7 3 5 4 7 4 5 3 8 0 1 6 8 1 3 2 3 8 7 3 0 9 1 7 9 6 7 5 9 6 4 6\n",
      " 0 2 3 2 8 7 1 7 8 3 2 0 1 5 2 1 1 5 4 4 9 1 3 0 7 3 7 5 5 2 9 8 1 6 6 1 7\n",
      " 9 3 4 6 3 6 3 3 2 2 6 4 0 5 6 5 6 1 9 7 4 8 2 5 8 8 7 9 2 2 7 7 8 9 7 3 2\n",
      " 4 0 1 9 6 1 3 1 5 9 2 1 0 1 1 2 1 4 0 3 2 0 5 0 0 0 8 3 4 3 1 0 2 0 4 2 2\n",
      " 2 3 1 4 2 9 8 5 1 3 1 3 0 1 0 8 8 8 0 9 6 4 5 8 9 9 7 0 0 0 8 4 8 3 2 9 3\n",
      " 5 6 8 5 7 8 2 6 7 1 3 8 3 9 6 0 7 4 2 9 9 3 2 0 7 3 6 0 1 3 4 4 6 6 4 8 0\n",
      " 4 7 5 3 5 6 9 6 8 3 5 6 6 6 6 8 7 8 3 9 7 8 2 2 7 9 7 9 0 6 3 2 1 1 9 8 9\n",
      " 8 1 6 1 2 1 0 1 5 5 3 8 6 6 5 6 1 6 1 1 6 0 7 6 3 3 6 7 4 7 4 6 0 8 4 3 2\n",
      " 1 0 2 9 4 9 5 7 0 2 5 6 5 4 2 4 3 9 7 8 0 1 2 5 6 5 0 7 6 1 7 5 7 9 0 3 2\n",
      " 5 3 5 4 4 0 0 1 8 5 4 0 1 8 5 5 2 0 8 1 7 8 9 4 1 2 5 1 3 1 2 0 2 8 3 7 4\n",
      " 8 2 6 7 1 5 2 2 6 8 0 2 9 0 2 9 2 3 1 2 0 0 8 4 6 3 3 3 6 0 6 1 1 1 0 9 6\n",
      " 6] [6 1 7 3 7 5 0 2 8 6 1 7 4 4 1 6 7 4 8 3 1 6 9 4 5 8 9 9 2 0 6 0 7 9 4 0 8\n",
      " 4 9 5 2 8 0 7 7 5 4 4 7 2 7 0 7 6 1 0 4 0 6 0 3 7 1 5 9 7 6 9 4 9 6 4 6 0\n",
      " 9 0 5 3 7 7 0 3 4 6 2 1 6 3 4 2 0 2 1 3 8 7 0 5 5 8 3 0 8 7 9 0 0 1 4 7 0\n",
      " 7 2 9 1 2 4 1 1 6 8 2 4 1 1 5 0 2 3 4 2 6 1 6 9 7 5 8 2 3 2 3 2 2 3 5 1 5\n",
      " 4 6 4 7 2 0 0 6 9 2 4 2 0 4 5 2 3 5 6 8 3 6 1 6 4 5 5 7 8 6 2 6 1 4 8 9 8\n",
      " 7 9 4 0 4 3 2 7 7 7 1 5 4 3 0 9 0 4 7 9 0 7 4 4 0 4 5 5 2 9 9 7 6 0 6 9 7\n",
      " 3 6 1 6 7 4 6 9 8 8 6 0 2 3 0 5 7 1 7 5 3 2 6 3 5 0 9 4 8 5 1 6 2 6 7 0 3\n",
      " 9 3 9 5 1 5 1 3 9 4 8 7 7 6 1 1 9 4 1 5 0 0 9 2 5 4 7 4 6 0 6 0 7 7 0 3 2\n",
      " 3 9 7 1 1 6 8 4 6 1 7 2 6 5 3 0 0 1 4 9 5 6 6 5 0 4 4 7 9 2 8 5 2 5 4 1 5\n",
      " 1 7 8 0 9 8 6 4 6 8 7 1 3 9 9 6 0 0 2 2 4 7 1 6 3 7 5 1 6 2 3 0 2 9 3 1 2\n",
      " 2 6 9 0 2 4 8 7 3 7 4 3 3 4 0 5 3 4 9 8 6 5 6 2 5 5 6 7 7 7 0 6 7 9 2 5 0\n",
      " 2 5 7 2 3 1 0 8 7 1 6 2 0 6 1 1 7 8 6 4 0 2 9 1 6 8 5 4 3 3 4 4 7 7 7 0 8\n",
      " 7 6 3 0 8 5 6 7 2 9 3 8 6 0 9 8 8 9 6 2 2 9 5 9 2 5 7 1 7 4 8 0 1 6 4 0 3\n",
      " 7 9 9 4 0 4 4 4 3 1 3 3 8 6 3 1 7 7 1 0 3 7 9 1 4 3 4 2 8 5 1 3 9 2 6 6 9\n",
      " 4 2 7 3 0 8 6 9 4 5 7 4 1 8 7 8 8 7 8 5 9 7 6 8 4 9 6 6 2 0 1 2 5 2 3 1 2\n",
      " 0 4 7 7 4 0 8 6 5 2 9 0 7 5 8 2 4 6 0 5 8 4 8 7 8 6 7 8 0 8 2 9 2 0 4 4 1\n",
      " 7 6 4 9 4 7 3 5 4 7 4 3 3 8 5 1 6 8 1 3 2 3 8 9 3 0 9 1 7 4 6 7 4 4 6 9 6\n",
      " 0 2 3 2 1 4 1 5 8 8 2 8 1 5 2 1 1 6 4 4 9 1 3 0 7 3 9 5 5 1 4 8 1 6 6 1 7\n",
      " 4 3 4 6 5 6 5 3 2 2 6 4 0 8 6 5 6 1 9 7 4 8 7 5 8 2 9 9 2 6 7 7 8 9 7 3 2\n",
      " 4 0 1 9 6 1 5 1 5 9 2 1 0 1 1 2 1 4 0 3 2 0 0 0 0 0 8 3 4 3 1 0 2 0 4 6 4\n",
      " 2 3 1 4 2 4 8 3 1 3 1 3 0 1 0 8 6 0 0 9 0 4 5 8 9 9 7 5 0 0 8 4 8 3 2 9 3\n",
      " 8 5 8 5 7 8 3 6 9 1 3 8 3 4 6 0 7 4 2 9 4 3 2 0 7 3 6 0 1 3 4 4 6 6 4 8 0\n",
      " 4 7 3 3 5 6 9 6 8 3 5 6 6 6 6 8 7 8 3 8 7 9 2 2 7 9 7 9 0 6 3 2 1 1 9 8 9\n",
      " 8 1 6 1 1 1 0 1 3 5 3 8 6 6 5 6 1 6 1 1 6 0 7 6 3 2 6 7 9 7 4 6 0 8 4 3 2\n",
      " 1 5 2 9 7 9 4 7 0 2 5 6 5 4 2 4 3 9 7 5 0 1 2 5 6 3 0 7 6 1 7 5 7 4 0 3 2\n",
      " 5 5 5 4 9 0 0 1 8 5 4 0 1 9 5 5 6 0 8 1 7 8 9 4 1 2 5 1 3 1 2 0 2 3 3 7 9\n",
      " 5 6 6 7 1 3 2 2 6 8 0 2 9 0 2 7 2 8 1 5 0 0 8 4 6 3 8 8 6 6 6 8 1 5 5 4 6\n",
      " 6]\n"
     ]
    },
    {
     "data": {
      "text/plain": [
       "0.844"
      ]
     },
     "execution_count": 33,
     "metadata": {},
     "output_type": "execute_result"
    }
   ],
   "source": [
    "dev_predictions = make_predictions(X_dev, W1, b1, W2, b2)\n",
    "get_accuracy(dev_predictions, Y_dev)"
   ]
  }
 ],
 "metadata": {
  "kernelspec": {
   "display_name": "Python 3",
   "language": "python",
   "name": "python3"
  },
  "language_info": {
   "codemirror_mode": {
    "name": "ipython",
    "version": 3
   },
   "file_extension": ".py",
   "mimetype": "text/x-python",
   "name": "python",
   "nbconvert_exporter": "python",
   "pygments_lexer": "ipython3",
   "version": "3.11.4"
  },
  "orig_nbformat": 4
 },
 "nbformat": 4,
 "nbformat_minor": 2
}
