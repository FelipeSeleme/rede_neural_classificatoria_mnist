{
 "cells": [
  {
   "cell_type": "markdown",
   "metadata": {},
   "source": [
    "## Construindo uma Rede Neural do Zero"
   ]
  },
  {
   "cell_type": "markdown",
   "metadata": {},
   "source": [
    "Para ter um melhor entendimento de como funciona, vamos construir uma rede neural do zero para classificar números escritos a mão.  \n",
    "Não vamos utilizar bibliotecas de redes neurais ou qualquer inteligência artificial, vamos construir tudo utilizando apenas bibliotecas de álgebra linear e cálculo.  \n",
    "Para treino e teste do modelo, será utilizado o [MNIST](https://en.wikipedia.org/wiki/MNIST_database), que é um dataset de imagens de números escritos a mão bastante conhecido.  \n",
    "O dataset possui 70.000 imagens. Cada imagem possui tamanho 28x28 pixels."
   ]
  },
  {
   "cell_type": "markdown",
   "metadata": {},
   "source": [
    "Como cada imagem possui tamanho 28x28 pixels, podemos representar cada imagem como um vetor de tamanho 784 (28x28).  \n",
    "Sendo assim, o input da nossa rede neural será um vetor de tamanho 784.  \n",
    "Como queremos classificar os números de 0 a 9, o output da nossa rede neural será um vetor de tamanho 10.  \n",
    "  \n",
    "Vamos construir duas camadas com 10 neurônios cada para processar o input e gerar o output.  \n",
    "  \n",
    "Deve ficar parecido com isso:"
   ]
  },
  {
   "cell_type": "markdown",
   "metadata": {},
   "source": [
    "<img src=\"rede.png\" style=\"width: 600px; height: auto;\">"
   ]
  },
  {
   "cell_type": "code",
   "execution_count": 48,
   "metadata": {},
   "outputs": [],
   "source": [
    "# Importando as bibliotecas necessárias\n",
    "import numpy as np  # Biblioteca para trabalhar com vetores e matrizes\n",
    "import pandas as pd  # Biblioteca para trabalhar com dataframes\n",
    "from matplotlib import pyplot as plt  # Biblioteca para plotar gráficos"
   ]
  },
  {
   "cell_type": "code",
   "execution_count": 49,
   "metadata": {},
   "outputs": [
    {
     "data": {
      "text/html": [
       "<div>\n",
       "<style scoped>\n",
       "    .dataframe tbody tr th:only-of-type {\n",
       "        vertical-align: middle;\n",
       "    }\n",
       "\n",
       "    .dataframe tbody tr th {\n",
       "        vertical-align: top;\n",
       "    }\n",
       "\n",
       "    .dataframe thead th {\n",
       "        text-align: right;\n",
       "    }\n",
       "</style>\n",
       "<table border=\"1\" class=\"dataframe\">\n",
       "  <thead>\n",
       "    <tr style=\"text-align: right;\">\n",
       "      <th></th>\n",
       "      <th>label</th>\n",
       "      <th>1x1</th>\n",
       "      <th>1x2</th>\n",
       "      <th>1x3</th>\n",
       "      <th>1x4</th>\n",
       "      <th>1x5</th>\n",
       "      <th>1x6</th>\n",
       "      <th>1x7</th>\n",
       "      <th>1x8</th>\n",
       "      <th>1x9</th>\n",
       "      <th>...</th>\n",
       "      <th>28x19</th>\n",
       "      <th>28x20</th>\n",
       "      <th>28x21</th>\n",
       "      <th>28x22</th>\n",
       "      <th>28x23</th>\n",
       "      <th>28x24</th>\n",
       "      <th>28x25</th>\n",
       "      <th>28x26</th>\n",
       "      <th>28x27</th>\n",
       "      <th>28x28</th>\n",
       "    </tr>\n",
       "  </thead>\n",
       "  <tbody>\n",
       "    <tr>\n",
       "      <th>0</th>\n",
       "      <td>5</td>\n",
       "      <td>0</td>\n",
       "      <td>0</td>\n",
       "      <td>0</td>\n",
       "      <td>0</td>\n",
       "      <td>0</td>\n",
       "      <td>0</td>\n",
       "      <td>0</td>\n",
       "      <td>0</td>\n",
       "      <td>0</td>\n",
       "      <td>...</td>\n",
       "      <td>0</td>\n",
       "      <td>0</td>\n",
       "      <td>0</td>\n",
       "      <td>0</td>\n",
       "      <td>0</td>\n",
       "      <td>0</td>\n",
       "      <td>0</td>\n",
       "      <td>0</td>\n",
       "      <td>0</td>\n",
       "      <td>0</td>\n",
       "    </tr>\n",
       "    <tr>\n",
       "      <th>1</th>\n",
       "      <td>0</td>\n",
       "      <td>0</td>\n",
       "      <td>0</td>\n",
       "      <td>0</td>\n",
       "      <td>0</td>\n",
       "      <td>0</td>\n",
       "      <td>0</td>\n",
       "      <td>0</td>\n",
       "      <td>0</td>\n",
       "      <td>0</td>\n",
       "      <td>...</td>\n",
       "      <td>0</td>\n",
       "      <td>0</td>\n",
       "      <td>0</td>\n",
       "      <td>0</td>\n",
       "      <td>0</td>\n",
       "      <td>0</td>\n",
       "      <td>0</td>\n",
       "      <td>0</td>\n",
       "      <td>0</td>\n",
       "      <td>0</td>\n",
       "    </tr>\n",
       "    <tr>\n",
       "      <th>2</th>\n",
       "      <td>4</td>\n",
       "      <td>0</td>\n",
       "      <td>0</td>\n",
       "      <td>0</td>\n",
       "      <td>0</td>\n",
       "      <td>0</td>\n",
       "      <td>0</td>\n",
       "      <td>0</td>\n",
       "      <td>0</td>\n",
       "      <td>0</td>\n",
       "      <td>...</td>\n",
       "      <td>0</td>\n",
       "      <td>0</td>\n",
       "      <td>0</td>\n",
       "      <td>0</td>\n",
       "      <td>0</td>\n",
       "      <td>0</td>\n",
       "      <td>0</td>\n",
       "      <td>0</td>\n",
       "      <td>0</td>\n",
       "      <td>0</td>\n",
       "    </tr>\n",
       "    <tr>\n",
       "      <th>3</th>\n",
       "      <td>1</td>\n",
       "      <td>0</td>\n",
       "      <td>0</td>\n",
       "      <td>0</td>\n",
       "      <td>0</td>\n",
       "      <td>0</td>\n",
       "      <td>0</td>\n",
       "      <td>0</td>\n",
       "      <td>0</td>\n",
       "      <td>0</td>\n",
       "      <td>...</td>\n",
       "      <td>0</td>\n",
       "      <td>0</td>\n",
       "      <td>0</td>\n",
       "      <td>0</td>\n",
       "      <td>0</td>\n",
       "      <td>0</td>\n",
       "      <td>0</td>\n",
       "      <td>0</td>\n",
       "      <td>0</td>\n",
       "      <td>0</td>\n",
       "    </tr>\n",
       "    <tr>\n",
       "      <th>4</th>\n",
       "      <td>9</td>\n",
       "      <td>0</td>\n",
       "      <td>0</td>\n",
       "      <td>0</td>\n",
       "      <td>0</td>\n",
       "      <td>0</td>\n",
       "      <td>0</td>\n",
       "      <td>0</td>\n",
       "      <td>0</td>\n",
       "      <td>0</td>\n",
       "      <td>...</td>\n",
       "      <td>0</td>\n",
       "      <td>0</td>\n",
       "      <td>0</td>\n",
       "      <td>0</td>\n",
       "      <td>0</td>\n",
       "      <td>0</td>\n",
       "      <td>0</td>\n",
       "      <td>0</td>\n",
       "      <td>0</td>\n",
       "      <td>0</td>\n",
       "    </tr>\n",
       "  </tbody>\n",
       "</table>\n",
       "<p>5 rows × 785 columns</p>\n",
       "</div>"
      ],
      "text/plain": [
       "   label  1x1  1x2  1x3  1x4  1x5  1x6  1x7  1x8  1x9  ...  28x19  28x20  \\\n",
       "0      5    0    0    0    0    0    0    0    0    0  ...      0      0   \n",
       "1      0    0    0    0    0    0    0    0    0    0  ...      0      0   \n",
       "2      4    0    0    0    0    0    0    0    0    0  ...      0      0   \n",
       "3      1    0    0    0    0    0    0    0    0    0  ...      0      0   \n",
       "4      9    0    0    0    0    0    0    0    0    0  ...      0      0   \n",
       "\n",
       "   28x21  28x22  28x23  28x24  28x25  28x26  28x27  28x28  \n",
       "0      0      0      0      0      0      0      0      0  \n",
       "1      0      0      0      0      0      0      0      0  \n",
       "2      0      0      0      0      0      0      0      0  \n",
       "3      0      0      0      0      0      0      0      0  \n",
       "4      0      0      0      0      0      0      0      0  \n",
       "\n",
       "[5 rows x 785 columns]"
      ]
     },
     "execution_count": 49,
     "metadata": {},
     "output_type": "execute_result"
    }
   ],
   "source": [
    "# Importando o dataset\n",
    "data = pd.read_csv('mnist.csv')  # Lendo o dataset\n",
    "data.head()  # Visualizando as 5 primeiras linhas do dataset"
   ]
  },
  {
   "cell_type": "code",
   "execution_count": 50,
   "metadata": {},
   "outputs": [
    {
     "data": {
      "text/plain": [
       "(70000, 785)"
      ]
     },
     "execution_count": 50,
     "metadata": {},
     "output_type": "execute_result"
    }
   ],
   "source": [
    "data.shape  # Visualizando a quantidade de linhas e colunas do dataset"
   ]
  },
  {
   "cell_type": "markdown",
   "metadata": {},
   "source": [
    "O dataset possui 70 mil linhas e 785 colunas. A primeira coluna é o label da imagem e as outras 784 colunas são os pixels da imagem."
   ]
  },
  {
   "cell_type": "markdown",
   "metadata": {},
   "source": [
    "## Preparando os dados para treino e teste:"
   ]
  },
  {
   "cell_type": "markdown",
   "metadata": {},
   "source": [
    "Os dados precisam ser tratados e transformaddos em Arrays NumPy para que possam ser utilizados no treinamento da rede neural."
   ]
  },
  {
   "cell_type": "code",
   "execution_count": 51,
   "metadata": {},
   "outputs": [],
   "source": [
    "data = np.array(data)       # converte para array numpy\n",
    "m, n = data.shape           # m = 10000 amostras, n = 785 colunas\n",
    "np.random.shuffle(data)     # mistura as linhas do dataset\n",
    "\n",
    "data_dev = data[0:1000].T   # 1000 amostras para validação\n",
    "Y_dev = data_dev[0]         # rótulos\n",
    "X_dev = data_dev[1:n]       # dados\n",
    "X_dev = X_dev / 255.        # normalização\n",
    "\n",
    "data_train = data[1000:m].T # 9000 amostras para treinamento\n",
    "Y_train = data_train[0]     # rótulos\n",
    "X_train = data_train[1:n]   # dados\n",
    "X_train = X_train / 255.    # normalização\n",
    "_,m_train = X_train.shape   # m_train = 9000 amostras"
   ]
  },
  {
   "cell_type": "code",
   "execution_count": 52,
   "metadata": {},
   "outputs": [
    {
     "data": {
      "text/plain": [
       "array([7, 4, 9, ..., 1, 5, 0], dtype=int64)"
      ]
     },
     "execution_count": 52,
     "metadata": {},
     "output_type": "execute_result"
    }
   ],
   "source": [
    "Y_train"
   ]
  },
  {
   "cell_type": "markdown",
   "metadata": {},
   "source": [
    "Parece certo."
   ]
  },
  {
   "cell_type": "markdown",
   "metadata": {},
   "source": [
    "## Definindo a arquitetura da rede neural:"
   ]
  },
  {
   "cell_type": "code",
   "execution_count": 53,
   "metadata": {},
   "outputs": [],
   "source": [
    "# Definindo os parâmetros iniciais\n",
    "def init_params():\n",
    "    '''\n",
    "    Inicializa os parâmetros W1, b1, W2, b2\n",
    "    Onde:\n",
    "        W1: matriz de pesos da camada 1\n",
    "        b1: vetor de bias da camada 1\n",
    "        W2: matriz de pesos da camada 2\n",
    "        b2: vetor de bias da camada 2\n",
    "    '''\n",
    "    W1 = np.random.rand(10, 784) - 0.5  # 10 neurônios na camada de saída, 784 neurônios na camada de entrada\n",
    "    b1 = np.random.rand(10, 1) - 0.5    # 10 neurônios na camada de saída\n",
    "    W2 = np.random.rand(10, 10) - 0.5   # 10 neurônios na camada de saída, 10 neurônios na camada de entrada\n",
    "    b2 = np.random.rand(10, 1) - 0.5    # 10 neurônios na camada de saída\n",
    "    return W1, b1, W2, b2\n",
    "\n",
    "\n",
    "# Definindo o ReLU: função de ativação\n",
    "def ReLU(Z):\n",
    "    '''\n",
    "    Implementa a função de ativação ReLU\n",
    "    A ativação ReLU serve para adicionar não-linearidade à rede\n",
    "    '''\n",
    "    return np.maximum(Z, 0)  # retorna o valor de Z se for maior que 0, caso contrário retorna 0\n",
    "\n",
    "\n",
    "# Definindo a função de ativação Softmax\n",
    "def softmax(Z):\n",
    "    '''\n",
    "    Implementa a função de ativação Softmax\n",
    "    A ativação Softmax é utilizada para classificação multiclasse\n",
    "    Ela retorna probabilidades para cada classe\n",
    "    '''\n",
    "    A = np.exp(Z) / sum(np.exp(Z))  # np.exp() calcula o exponencial de cada elemento de Z\n",
    "    return A\n",
    "\n",
    "\n",
    "# Definindo a propagação para frente\n",
    "def forward_prop(W1, b1, W2, b2, X):\n",
    "    '''\n",
    "    Implementa a propagação para frente\n",
    "    Retorna:\n",
    "        Z1: vetor de saída da camada 1\n",
    "        A1: vetor de ativação da camada 1\n",
    "        Z2: vetor de saída da camada 2\n",
    "        A2: vetor de ativação da camada 2\n",
    "    '''\n",
    "    Z1 = W1.dot(X) + b1     # np.dot() calcula o produto escalar entre W1 e X\n",
    "    A1 = ReLU(Z1)           # A1 é a ativação de Z1\n",
    "    Z2 = W2.dot(A1) + b2    # np.dot() calcula o produto escalar entre W2 e A1\n",
    "    A2 = softmax(Z2)        # A2 é a ativação de Z2\n",
    "    return Z1, A1, Z2, A2\n",
    "\n",
    "\n",
    "def ReLU_deriv(Z):  # Derivada da função ReLU\n",
    "    return Z > 0    # Retorna 1 se Z > 0, caso contrário retorna 0\n",
    "\n",
    "\n",
    "# Definindo o one-hot encoding: transforma os valores de y em vetores de 0 e 1\n",
    "def one_hot(Y):\n",
    "    '''\n",
    "    Implementa o one-hot encoding\n",
    "    One-hot encoding é utilizado para transformar os valores de y em vetores de 0 e 1\n",
    "    '''\n",
    "    one_hot_Y = np.zeros((Y.size, Y.max() + 1)) # Cria uma matriz de zeros\n",
    "    one_hot_Y[np.arange(Y.size), Y] = 1         # Substitui os zeros por 1\n",
    "    one_hot_Y = one_hot_Y.T                     # Transpõe a matriz\n",
    "    return one_hot_Y\n",
    "\n",
    "\n",
    "# Definindo a propagação para trás\n",
    "def backward_prop(Z1, A1, Z2, A2, W1, W2, X, Y):\n",
    "    '''\n",
    "    Implementa a propagação para trás\n",
    "    Retorna:\n",
    "        dW1: gradiente de W1\n",
    "        db1: gradiente de b1\n",
    "        dW2: gradiente de W2\n",
    "        db2: gradiente de b2\n",
    "    '''\n",
    "    one_hot_Y = one_hot(Y)                  # Transforma os valores de Y em vetores de 0 e 1\n",
    "    dZ2 = A2 - one_hot_Y                    # Calcula a derivada de Z2\n",
    "    dW2 = 1 / m * dZ2.dot(A1.T)             # Calcula a derivada de W2\n",
    "    db2 = 1 / m * np.sum(dZ2)               # Calcula a derivada de b2\n",
    "    dZ1 = W2.T.dot(dZ2) * ReLU_deriv(Z1)    # Calcula a derivada de Z1\n",
    "    dW1 = 1 / m * dZ1.dot(X.T)              # Calcula a derivada de W1\n",
    "    db1 = 1 / m * np.sum(dZ1)               # Calcula a derivada de b1\n",
    "    return dW1, db1, dW2, db2\n",
    "\n",
    "\n",
    "# Definindo a atualização dos parâmetros\n",
    "def update_params(W1, b1, W2, b2, dW1, db1, dW2, db2, alpha):\n",
    "    '''\n",
    "    Implementa a atualização dos parâmetros\n",
    "    Onde:\n",
    "        alpha: taxa de aprendizado\n",
    "    '''\n",
    "    W1 = W1 - alpha * dW1\n",
    "    b1 = b1 - alpha * db1    \n",
    "    W2 = W2 - alpha * dW2  \n",
    "    b2 = b2 - alpha * db2    \n",
    "    return W1, b1, W2, b2"
   ]
  },
  {
   "cell_type": "code",
   "execution_count": 54,
   "metadata": {},
   "outputs": [],
   "source": [
    "# Definindo a função de predição\n",
    "def get_predictions(A2):\n",
    "    return np.argmax(A2, 0)  # Retorna o índice do maior valor de A2\n",
    "\n",
    "\n",
    "# Definindo a função de acurácia\n",
    "def get_accuracy(predictions, Y):\n",
    "    print(predictions, Y)\n",
    "    return np.sum(predictions == Y) / Y.size  # Retorna a acurácia\n",
    "\n",
    "\n",
    "# Definindo o algoritmo de treinamento\n",
    "def gradient_descent(X, Y, alpha, iterations):\n",
    "    '''\n",
    "    Implementa o algoritmo de treinamento\n",
    "    Onde:\n",
    "        alpha: taxa de aprendizado\n",
    "        iterations: número de iterações\n",
    "    '''\n",
    "    W1, b1, W2, b2 = init_params()  # Inicializa os parâmetros\n",
    "    for i in range(iterations):     # Loop pelas iterações\n",
    "        Z1, A1, Z2, A2 = forward_prop(W1, b1, W2, b2, X)                            # Propagação para frente\n",
    "        dW1, db1, dW2, db2 = backward_prop(Z1, A1, Z2, A2, W1, W2, X, Y)            # Propagação para trás\n",
    "        W1, b1, W2, b2 = update_params(W1, b1, W2, b2, dW1, db1, dW2, db2, alpha)   # Atualiza os parâmetros\n",
    "        if i % 10 == 0:                          # A cada 10 iterações\n",
    "            print(\"Iteration: \", i)              # Printa a iteração\n",
    "            predictions = get_predictions(A2)    # Faz a predição\n",
    "            print(get_accuracy(predictions, Y))  # Printa a acurácia\n",
    "    return W1, b1, W2, b2"
   ]
  },
  {
   "cell_type": "markdown",
   "metadata": {},
   "source": [
    "## Treinando a rede neural:"
   ]
  },
  {
   "cell_type": "code",
   "execution_count": 55,
   "metadata": {},
   "outputs": [
    {
     "name": "stdout",
     "output_type": "stream",
     "text": [
      "Iteration:  0\n",
      "[2 1 1 ... 1 9 1] [7 4 9 ... 1 5 0]\n",
      "0.07934782608695652\n",
      "Iteration:  10\n",
      "[2 8 8 ... 1 9 6] [7 4 9 ... 1 5 0]\n",
      "0.1804927536231884\n",
      "Iteration:  20\n",
      "[2 8 8 ... 3 9 6] [7 4 9 ... 1 5 0]\n",
      "0.2361304347826087\n",
      "Iteration:  30\n",
      "[1 8 8 ... 3 5 6] [7 4 9 ... 1 5 0]\n",
      "0.27107246376811595\n",
      "Iteration:  40\n",
      "[1 8 8 ... 1 5 6] [7 4 9 ... 1 5 0]\n",
      "0.30871014492753623\n",
      "Iteration:  50\n",
      "[1 8 8 ... 1 5 6] [7 4 9 ... 1 5 0]\n",
      "0.35879710144927535\n",
      "Iteration:  60\n",
      "[1 7 8 ... 1 3 0] [7 4 9 ... 1 5 0]\n",
      "0.4256376811594203\n",
      "Iteration:  70\n",
      "[1 7 9 ... 1 3 0] [7 4 9 ... 1 5 0]\n",
      "0.4706666666666667\n",
      "Iteration:  80\n",
      "[1 7 9 ... 1 3 0] [7 4 9 ... 1 5 0]\n",
      "0.5028550724637681\n",
      "Iteration:  90\n",
      "[1 7 9 ... 1 3 0] [7 4 9 ... 1 5 0]\n",
      "0.5331739130434783\n",
      "Iteration:  100\n",
      "[1 7 9 ... 1 3 0] [7 4 9 ... 1 5 0]\n",
      "0.558768115942029\n",
      "Iteration:  110\n",
      "[1 7 9 ... 1 3 0] [7 4 9 ... 1 5 0]\n",
      "0.5818260869565217\n",
      "Iteration:  120\n",
      "[1 7 9 ... 1 3 0] [7 4 9 ... 1 5 0]\n",
      "0.6019565217391304\n",
      "Iteration:  130\n",
      "[7 7 9 ... 1 3 0] [7 4 9 ... 1 5 0]\n",
      "0.6203623188405797\n",
      "Iteration:  140\n",
      "[7 7 9 ... 1 3 0] [7 4 9 ... 1 5 0]\n",
      "0.6368695652173914\n",
      "Iteration:  150\n",
      "[7 7 9 ... 1 3 0] [7 4 9 ... 1 5 0]\n",
      "0.6513333333333333\n",
      "Iteration:  160\n",
      "[7 9 9 ... 1 3 0] [7 4 9 ... 1 5 0]\n",
      "0.6640434782608695\n",
      "Iteration:  170\n",
      "[7 9 9 ... 1 3 0] [7 4 9 ... 1 5 0]\n",
      "0.6753188405797101\n",
      "Iteration:  180\n",
      "[7 9 9 ... 1 3 0] [7 4 9 ... 1 5 0]\n",
      "0.6848695652173913\n",
      "Iteration:  190\n",
      "[7 9 9 ... 1 3 0] [7 4 9 ... 1 5 0]\n",
      "0.6923623188405797\n",
      "Iteration:  200\n",
      "[7 9 9 ... 1 3 0] [7 4 9 ... 1 5 0]\n",
      "0.6991449275362319\n",
      "Iteration:  210\n",
      "[7 9 9 ... 1 3 0] [7 4 9 ... 1 5 0]\n",
      "0.7053623188405798\n",
      "Iteration:  220\n",
      "[7 9 9 ... 1 3 0] [7 4 9 ... 1 5 0]\n",
      "0.7112608695652174\n",
      "Iteration:  230\n",
      "[7 9 9 ... 1 3 0] [7 4 9 ... 1 5 0]\n",
      "0.7171014492753623\n",
      "Iteration:  240\n",
      "[7 9 9 ... 1 3 0] [7 4 9 ... 1 5 0]\n",
      "0.722536231884058\n",
      "Iteration:  250\n",
      "[7 9 9 ... 1 3 0] [7 4 9 ... 1 5 0]\n",
      "0.7276811594202899\n",
      "Iteration:  260\n",
      "[7 9 9 ... 1 3 0] [7 4 9 ... 1 5 0]\n",
      "0.7325652173913043\n",
      "Iteration:  270\n",
      "[7 4 9 ... 1 3 0] [7 4 9 ... 1 5 0]\n",
      "0.7368260869565217\n",
      "Iteration:  280\n",
      "[7 4 9 ... 1 3 0] [7 4 9 ... 1 5 0]\n",
      "0.7410579710144928\n",
      "Iteration:  290\n",
      "[7 4 9 ... 1 3 0] [7 4 9 ... 1 5 0]\n",
      "0.7452608695652174\n",
      "Iteration:  300\n",
      "[7 4 9 ... 1 3 0] [7 4 9 ... 1 5 0]\n",
      "0.7493623188405797\n",
      "Iteration:  310\n",
      "[7 4 9 ... 1 3 0] [7 4 9 ... 1 5 0]\n",
      "0.7533188405797101\n",
      "Iteration:  320\n",
      "[7 4 9 ... 1 3 0] [7 4 9 ... 1 5 0]\n",
      "0.7571304347826087\n",
      "Iteration:  330\n",
      "[7 4 9 ... 1 3 0] [7 4 9 ... 1 5 0]\n",
      "0.7602753623188406\n",
      "Iteration:  340\n",
      "[7 4 9 ... 1 3 0] [7 4 9 ... 1 5 0]\n",
      "0.7640579710144928\n",
      "Iteration:  350\n",
      "[7 4 9 ... 1 3 0] [7 4 9 ... 1 5 0]\n",
      "0.7672173913043479\n",
      "Iteration:  360\n",
      "[7 4 9 ... 1 3 0] [7 4 9 ... 1 5 0]\n",
      "0.7702608695652174\n",
      "Iteration:  370\n",
      "[7 4 9 ... 1 3 0] [7 4 9 ... 1 5 0]\n",
      "0.7735507246376812\n",
      "Iteration:  380\n",
      "[7 4 9 ... 1 3 0] [7 4 9 ... 1 5 0]\n",
      "0.7772173913043479\n",
      "Iteration:  390\n",
      "[7 4 9 ... 1 3 0] [7 4 9 ... 1 5 0]\n",
      "0.7798695652173913\n",
      "Iteration:  400\n",
      "[7 4 9 ... 1 3 0] [7 4 9 ... 1 5 0]\n",
      "0.7823623188405797\n",
      "Iteration:  410\n",
      "[7 4 9 ... 1 3 0] [7 4 9 ... 1 5 0]\n",
      "0.7854492753623188\n",
      "Iteration:  420\n",
      "[7 4 9 ... 1 3 0] [7 4 9 ... 1 5 0]\n",
      "0.7880869565217391\n",
      "Iteration:  430\n",
      "[7 4 9 ... 1 3 0] [7 4 9 ... 1 5 0]\n",
      "0.7908115942028986\n",
      "Iteration:  440\n",
      "[7 4 9 ... 1 3 0] [7 4 9 ... 1 5 0]\n",
      "0.7933768115942029\n",
      "Iteration:  450\n",
      "[7 4 9 ... 1 3 0] [7 4 9 ... 1 5 0]\n",
      "0.7961014492753623\n",
      "Iteration:  460\n",
      "[7 4 9 ... 1 3 0] [7 4 9 ... 1 5 0]\n",
      "0.7984057971014493\n",
      "Iteration:  470\n",
      "[7 4 9 ... 1 3 0] [7 4 9 ... 1 5 0]\n",
      "0.8011304347826087\n",
      "Iteration:  480\n",
      "[7 4 9 ... 1 3 0] [7 4 9 ... 1 5 0]\n",
      "0.8035942028985508\n",
      "Iteration:  490\n",
      "[7 4 9 ... 1 3 0] [7 4 9 ... 1 5 0]\n",
      "0.8056666666666666\n"
     ]
    }
   ],
   "source": [
    "# Treinando a rede\n",
    "W1, b1, W2, b2 = gradient_descent(X_train, Y_train, 0.10, 500)"
   ]
  },
  {
   "cell_type": "markdown",
   "metadata": {},
   "source": [
    "Após 500 épocas de treinamento, a rede neural atingiu uma acurácia superior a 80% no dataset de treino.  \n",
    "Podemos melhorar a acurácia da rede neural aumentando o número de épocas de treinamento, alterando a arquitetura da rede neural, alterando a taxa de aprendizado, etc.  \n",
    "Mas esse modelo simples serve para demonstrar como uma rede neural funciona."
   ]
  },
  {
   "cell_type": "markdown",
   "metadata": {},
   "source": [
    "## Fazendo as previsões:"
   ]
  },
  {
   "cell_type": "code",
   "execution_count": 56,
   "metadata": {},
   "outputs": [],
   "source": [
    "# Fazendo predições\n",
    "def make_predictions(X, W1, b1, W2, b2):\n",
    "    _, _, _, A2 = forward_prop(W1, b1, W2, b2, X)  # Propagação para frente\n",
    "    predictions = get_predictions(A2)\n",
    "    return predictions\n",
    "\n",
    "# Testando a rede\n",
    "def test_prediction(index, W1, b1, W2, b2):\n",
    "    current_image = X_train[:, index, None]  # Seleciona uma imagem do dataset\n",
    "    prediction = make_predictions(X_train[:, index, None], W1, b1, W2, b2)  # Faz a predição\n",
    "    label = Y_train[index]             # Seleciona o rótulo da imagem\n",
    "    print(\"Prediction: \", prediction)  # Printa a predição\n",
    "    print(\"Label: \", label)            # Printa o rótulo\n",
    "    \n",
    "    current_image = current_image.reshape((28, 28)) * 255  # Reshape da imagem\n",
    "    plt.gray()                                             # Define o esquema de cores\n",
    "    plt.imshow(current_image, interpolation='nearest')     # Plota a imagem\n",
    "    plt.show()"
   ]
  },
  {
   "cell_type": "markdown",
   "metadata": {},
   "source": [
    "Fazedo alguns testes..."
   ]
  },
  {
   "cell_type": "code",
   "execution_count": 57,
   "metadata": {},
   "outputs": [
    {
     "name": "stdout",
     "output_type": "stream",
     "text": [
      "Prediction:  [7]\n",
      "Label:  7\n"
     ]
    },
    {
     "data": {
      "image/png": "[encoded data removed]",
      "text/plain": [
       "<Figure size 640x480 with 1 Axes>"
      ]
     },
     "metadata": {},
     "output_type": "display_data"
    },
    {
     "name": "stdout",
     "output_type": "stream",
     "text": [
      "Prediction:  [4]\n",
      "Label:  4\n"
     ]
    },
    {
     "data": {
      "image/png": "[encoded data removed]",
      "text/plain": [
       "<Figure size 640x480 with 1 Axes>"
      ]
     },
     "metadata": {},
     "output_type": "display_data"
    },
    {
     "name": "stdout",
     "output_type": "stream",
     "text": [
      "Prediction:  [9]\n",
      "Label:  9\n"
     ]
    },
    {
     "data": {
      "image/png": "[encoded data removed]",
      "text/plain": [
       "<Figure size 640x480 with 1 Axes>"
      ]
     },
     "metadata": {},
     "output_type": "display_data"
    },
    {
     "name": "stdout",
     "output_type": "stream",
     "text": [
      "Prediction:  [1]\n",
      "Label:  1\n"
     ]
    },
    {
     "data": {
      "image/png": "[encoded data removed]",
      "text/plain": [
       "<Figure size 640x480 with 1 Axes>"
      ]
     },
     "metadata": {},
     "output_type": "display_data"
    }
   ],
   "source": [
    "test_prediction(0, W1, b1, W2, b2)\n",
    "test_prediction(1, W1, b1, W2, b2)\n",
    "test_prediction(2, W1, b1, W2, b2)\n",
    "test_prediction(3, W1, b1, W2, b2)"
   ]
  },
  {
   "cell_type": "markdown",
   "metadata": {},
   "source": [
    "## Medindo a acurácia do modelo nos dados de teste:"
   ]
  },
  {
   "cell_type": "code",
   "execution_count": 58,
   "metadata": {},
   "outputs": [
    {
     "name": "stdout",
     "output_type": "stream",
     "text": [
      "[8 3 7 6 6 1 5 9 8 9 0 8 4 1 1 8 4 0 0 0 4 6 5 0 1 9 6 8 3 9 9 8 5 9 1 2 9\n",
      " 1 9 6 5 3 7 8 2 1 0 5 5 8 9 5 1 9 7 9 7 9 0 8 8 2 0 5 1 4 7 9 7 1 6 7 0 9\n",
      " 3 7 9 4 3 9 9 9 2 1 1 0 5 5 3 7 7 9 4 4 3 2 1 0 9 6 0 1 0 6 8 0 7 5 7 7 8\n",
      " 6 4 2 7 2 4 7 3 3 6 6 1 0 7 1 0 4 5 9 9 7 3 1 8 5 6 5 3 6 9 3 0 7 1 4 9 3\n",
      " 1 2 4 1 8 5 6 1 6 8 8 1 5 3 6 1 6 6 6 1 5 2 9 6 4 3 5 1 3 0 8 3 8 8 0 6 2\n",
      " 4 6 6 6 2 8 8 9 0 5 6 0 0 1 8 1 3 1 5 5 1 8 7 1 6 2 9 9 6 9 5 2 2 7 3 8 9\n",
      " 2 0 7 7 3 0 9 1 3 9 8 6 1 9 0 0 3 0 9 1 3 8 8 0 3 8 6 5 5 7 6 5 5 3 7 4 5\n",
      " 1 9 0 0 4 7 4 4 3 3 6 5 7 2 8 3 8 1 7 6 8 1 4 5 9 7 5 8 1 3 1 2 2 0 6 6 1\n",
      " 7 5 1 3 6 4 0 5 6 4 9 9 2 1 2 8 8 1 0 3 3 2 8 8 5 1 2 7 7 6 6 1 9 5 1 1 7\n",
      " 1 3 5 6 8 6 3 5 5 7 8 4 9 2 4 7 9 5 6 2 9 7 7 1 0 7 0 6 3 7 8 0 8 0 2 4 1\n",
      " 1 8 8 4 1 5 2 8 6 0 1 0 1 7 3 0 2 1 8 6 1 4 6 7 5 0 0 6 2 3 8 0 7 9 4 2 8\n",
      " 5 8 9 0 9 0 9 5 0 1 5 7 2 0 1 9 6 3 3 3 6 4 8 2 3 0 8 2 2 1 3 9 3 0 6 6 5\n",
      " 5 1 3 7 9 3 1 8 7 0 8 5 1 6 0 0 6 6 7 5 6 0 1 3 6 6 6 2 7 1 9 8 6 3 2 5 6\n",
      " 7 7 1 0 0 7 6 6 0 6 1 0 3 7 2 2 8 2 1 3 0 9 8 2 3 5 2 7 3 9 4 2 2 1 8 1 4\n",
      " 2 5 2 7 0 8 4 8 8 0 9 6 3 2 3 6 7 5 5 1 7 6 6 0 5 4 2 6 8 6 8 6 1 1 4 3 1\n",
      " 6 0 4 4 1 3 9 8 6 0 2 7 4 1 7 0 8 5 0 3 5 0 8 0 4 2 7 9 4 1 6 3 2 3 0 8 9\n",
      " 0 3 3 4 1 4 9 3 9 8 5 6 1 1 9 7 9 7 4 4 2 2 4 3 0 0 3 3 9 9 1 3 0 6 9 6 1\n",
      " 0 8 4 2 5 9 6 8 6 4 4 0 1 3 3 3 8 0 3 0 3 7 3 5 5 8 0 4 2 8 5 6 2 8 3 8 1\n",
      " 9 6 4 6 4 8 7 3 7 0 9 9 1 2 4 0 0 8 0 7 3 7 7 4 2 9 1 2 3 3 7 1 1 7 4 6 6\n",
      " 9 4 2 8 0 6 1 1 7 3 9 3 5 6 4 0 3 3 1 1 0 5 2 2 6 3 6 0 2 5 4 2 0 5 3 3 5\n",
      " 2 1 6 4 2 6 5 4 7 3 0 1 7 5 3 6 0 6 5 9 4 6 1 3 3 6 9 1 2 5 4 2 0 4 8 2 6\n",
      " 0 4 5 7 3 4 5 4 8 3 4 9 4 0 1 8 8 9 0 2 7 1 3 7 8 9 2 3 4 8 6 8 9 0 7 2 2\n",
      " 3 7 8 1 6 4 8 6 0 3 5 8 1 4 2 2 3 0 6 9 8 8 7 0 6 7 5 6 1 9 3 6 4 3 3 4 0\n",
      " 3 1 6 3 8 9 7 5 9 3 1 0 7 1 5 9 4 5 0 0 9 9 8 6 9 3 3 7 4 1 4 7 7 5 5 3 0\n",
      " 1 8 8 6 8 8 8 1 7 6 8 7 2 5 7 0 0 2 2 8 5 7 1 0 9 2 1 1 8 2 4 6 8 0 6 4 8\n",
      " 3 9 9 3 9 0 1 0 3 2 7 8 2 1 9 8 6 6 6 0 1 0 6 1 5 2 2 9 8 0 7 1 5 1 2 9 4\n",
      " 3 2 5 6 8 5 8 0 0 6 4 9 4 6 1 8 0 8 3 5 9 6 7 2 0 1 7 2 1 3 5 2 8 1 7 3 7\n",
      " 8] [8 3 7 6 6 1 8 4 8 9 0 8 4 1 1 0 8 0 5 3 9 6 5 0 1 9 2 8 3 9 9 8 5 9 1 2 9\n",
      " 2 9 6 5 2 7 8 2 8 0 5 9 8 9 5 1 9 7 9 7 9 3 8 8 2 0 5 1 4 7 9 7 1 6 7 5 7\n",
      " 3 7 9 4 3 9 7 9 6 1 4 0 5 8 8 3 7 9 9 9 3 2 1 0 9 6 6 1 0 6 8 0 7 5 7 7 8\n",
      " 6 4 2 7 2 4 7 3 3 5 6 1 0 7 1 0 6 5 8 9 7 3 1 8 5 6 5 5 6 9 3 0 7 1 4 7 3\n",
      " 1 2 9 1 8 5 6 1 6 8 8 1 5 3 8 1 6 6 2 1 5 2 9 6 4 3 2 1 3 0 8 5 8 8 0 0 2\n",
      " 9 8 6 6 2 7 3 9 0 5 6 0 0 1 8 1 3 1 5 5 1 8 7 1 6 2 9 9 4 9 8 2 3 7 3 8 4\n",
      " 2 0 7 7 3 0 7 1 3 9 0 6 1 9 0 0 3 0 9 2 3 8 8 0 3 2 2 5 3 7 6 5 6 3 7 4 5\n",
      " 1 9 0 0 4 5 4 4 3 3 6 3 9 2 1 3 8 9 9 6 8 1 9 0 9 7 5 8 1 5 1 2 5 0 6 6 9\n",
      " 7 5 1 3 4 4 0 5 6 4 9 9 2 1 2 8 8 1 0 3 3 2 8 3 8 1 2 7 7 6 6 1 5 3 1 1 7\n",
      " 1 3 5 6 8 4 3 5 5 7 8 4 9 2 9 7 4 8 6 2 9 7 7 1 0 7 0 6 3 7 0 0 8 0 2 4 1\n",
      " 1 8 8 9 1 5 2 1 6 0 1 0 1 7 3 3 2 1 8 6 1 9 6 7 8 0 0 6 2 3 8 9 7 8 4 2 8\n",
      " 5 8 9 0 9 0 9 5 0 1 5 7 2 0 1 4 6 3 3 3 6 4 8 7 3 0 8 2 2 1 3 9 3 0 6 6 5\n",
      " 5 1 3 7 4 3 1 8 9 4 8 5 1 6 0 0 6 6 7 5 6 6 1 9 6 6 6 1 7 1 9 8 6 3 3 5 6\n",
      " 7 7 2 5 0 7 8 6 0 5 2 0 3 7 2 2 8 2 1 3 0 4 8 2 3 5 2 7 3 9 4 3 2 1 8 8 4\n",
      " 2 5 2 7 0 8 4 2 8 0 9 6 9 3 3 6 7 8 5 1 7 3 6 0 5 9 3 6 8 6 8 6 1 1 2 2 1\n",
      " 6 0 4 4 1 3 4 8 6 0 2 7 4 1 7 6 8 3 0 3 3 0 9 0 9 2 7 9 4 1 6 3 2 3 0 8 9\n",
      " 0 3 3 2 1 4 9 3 4 3 3 6 1 7 7 7 4 7 4 4 2 2 4 3 0 0 3 3 9 9 1 5 0 6 9 6 1\n",
      " 0 8 4 3 3 7 5 0 6 6 4 0 1 3 3 2 3 0 3 0 3 7 9 5 3 8 0 4 2 5 5 6 2 4 3 8 1\n",
      " 8 6 2 6 4 8 7 3 7 0 7 7 1 2 4 0 0 8 0 7 5 7 7 2 2 9 1 2 3 3 7 1 1 7 4 6 6\n",
      " 9 9 2 0 0 6 1 1 9 3 9 7 6 5 4 0 2 3 1 1 5 5 2 6 6 9 6 0 2 5 4 2 0 5 3 3 5\n",
      " 2 1 6 4 3 6 8 6 7 3 0 1 7 5 3 6 0 2 5 9 4 6 1 3 3 6 9 1 2 5 6 2 0 4 8 2 6\n",
      " 0 4 5 7 3 4 5 0 5 5 4 9 4 0 1 8 8 9 0 2 7 1 3 7 8 9 8 0 4 8 6 1 4 0 7 2 7\n",
      " 3 7 8 1 6 9 8 6 0 5 5 8 1 4 2 2 3 0 6 9 5 9 2 0 6 7 3 6 1 9 3 6 4 5 3 5 5\n",
      " 2 1 6 3 8 9 9 5 9 2 1 0 7 1 5 9 6 5 0 0 4 9 8 6 9 3 3 7 4 1 4 7 9 5 5 3 0\n",
      " 1 2 8 6 8 8 8 2 7 6 8 7 2 5 3 0 0 1 2 8 2 7 1 0 9 6 1 1 8 2 4 2 8 0 6 4 8\n",
      " 3 4 9 3 9 0 1 0 3 8 7 8 2 1 4 2 6 6 6 0 1 0 0 1 6 2 2 9 5 0 9 1 5 1 2 9 4\n",
      " 3 2 5 6 8 5 6 0 8 6 4 9 4 8 1 8 0 8 3 0 4 2 3 2 0 1 7 4 1 3 5 1 8 1 7 5 7\n",
      " 3]\n"
     ]
    },
    {
     "data": {
      "text/plain": [
       "0.8"
      ]
     },
     "execution_count": 58,
     "metadata": {},
     "output_type": "execute_result"
    }
   ],
   "source": [
    "dev_predictions = make_predictions(X_dev, W1, b1, W2, b2)\n",
    "get_accuracy(dev_predictions, Y_dev)"
   ]
  },
  {
   "cell_type": "markdown",
   "metadata": {},
   "source": [
    "O modelo atingiu uma acurácia superior a 80% nos dados de teste.  \n",
    "Esse valor é próximo da acurácia obtida nos dados de treino, o que indica que o modelo não está sofrendo de overfitting."
   ]
  },
  {
   "cell_type": "markdown",
   "metadata": {},
   "source": [
    "Lembrando que o modelo pode ser melhorado alterando a arquitetura da rede neural, aumentando o número de épocas de treinamento, alterando a taxa de aprendizado, etc."
   ]
  }
 ],
 "metadata": {
  "kernelspec": {
   "display_name": "Python 3",
   "language": "python",
   "name": "python3"
  },
  "language_info": {
   "codemirror_mode": {
    "name": "ipython",
    "version": 3
   },
   "file_extension": ".py",
   "mimetype": "text/x-python",
   "name": "python",
   "nbconvert_exporter": "python",
   "pygments_lexer": "ipython3",
   "version": "3.11.4"
  },
  "orig_nbformat": 4
 },
 "nbformat": 4,
 "nbformat_minor": 2
}
